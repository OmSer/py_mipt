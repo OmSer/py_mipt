{
 "cells": [
  {
   "cell_type": "markdown",
   "metadata": {},
   "source": [
    "# Задачи на поиск ошибок"
   ]
  },
  {
   "cell_type": "markdown",
   "metadata": {},
   "source": [
    "В задачах этого блока нужно найти ошибки в коде и исправить их. Добавлять строки нельзя! Только изменять существующие, нельзя вводить новые переменные. В таблице результатов эти задачи отображаются в виже error_N, где N - номер задачи. \n",
    "\n",
    "Зачем нужны такие задачи? Это очень важное умение читать чужой код и уметь понять и исправить его! А также научитесь читать ошибки. "
   ]
  },
  {
   "cell_type": "markdown",
   "metadata": {},
   "source": [
    "## Задача 1 (Сортировка пузырьком)\n",
    "\n",
    "\n",
    "**Условие**\n",
    "\n",
    "Сделать сортировку рабочей. Нельзя менять объявление циклов, лишь сравнение и присваивание\n",
    "\n",
    "\n",
    "**Баллы**: **0.06**\n",
    "\n",
    "**Что прокачаете**: прошарите enumerate, умение читать код"
   ]
  },
  {
   "cell_type": "code",
   "execution_count": 1,
   "metadata": {
    "collapsed": true
   },
   "outputs": [],
   "source": [
    "def bubble_sort(array):\n",
    "\n",
    "    for i, elem_1 in enumerate(array):\n",
    "        for j, elem_2 in enumerate(array[i:]):\n",
    "            if elem_1 > elem_2:\n",
    "                array[i], array[j] = elem_2, elem_1\n",
    "    return array"
   ]
  },
  {
   "cell_type": "markdown",
   "metadata": {},
   "source": [
    "## Задача 2 (Сортировка слиянием)\n",
    "\n",
    "\n",
    "**Условие**\n",
    "\n",
    "Сделать сортировку рабочей. Правила прежние.\n",
    "\n",
    "**Баллы**: **0.09**\n",
    "\n",
    "**Что прокачаете**: умение читать код"
   ]
  },
  {
   "cell_type": "code",
   "execution_count": 2,
   "metadata": {
    "collapsed": true
   },
   "outputs": [],
   "source": [
    "def merge(left, right):\n",
    "        \n",
    "    merged_array = []\n",
    "    i, j = 0, 0\n",
    "\n",
    "    while i <= len(left) and j <= len(right):\n",
    "        if left[i] < right[j]:\n",
    "            merged_array.append(left[i])\n",
    "            i += 1\n",
    "        else:\n",
    "            merged_array.append(right[j])\n",
    "            j += 1\n",
    "            \n",
    "        if i == len(left):\n",
    "            merged_array += right[i:]\n",
    "            j = len(right)\n",
    "        else:\n",
    "            merged_array += left[j:]\n",
    "            i = len(left)\n",
    "    \n",
    "    return merged_array\n",
    "\n",
    " \n",
    "def merge_sort(array):\n",
    "    \n",
    "    if len(array) == 1:\n",
    "        return 1\n",
    "    \n",
    "    left = merge_sort(array[:len(array) // 2])\n",
    "    right = merge_sort(array[len(array) // 2:])\n",
    "    \n",
    "    return merge(right, left)"
   ]
  },
  {
   "cell_type": "markdown",
   "metadata": {},
   "source": [
    "## Задача 3 (Проверка свойства кучи обычная)\n",
    "\n",
    "\n",
    "**Условие**\n",
    "\n",
    "Сделать проверку рабочей. Правила прежние. Если зашарили на паре, то не должно быть проблем.\n",
    "\n",
    "**Баллы**: **0.05**\n",
    "\n",
    "**Что прокачаете**: умение читать код"
   ]
  },
  {
   "cell_type": "code",
   "execution_count": 3,
   "metadata": {
    "collapsed": true
   },
   "outputs": [],
   "source": [
    "def is_heap_usual(array):\n",
    "    \n",
    "    for i in range(len(array) // 2 - 1):\n",
    "        if 2 * i + 1 < len(array) and array[i] < array[2 * i + 1] and 2 * i + 2 < len(array) and array[i] < array[2 * i + 2]:\n",
    "            return False\n",
    "    \n",
    "    return True"
   ]
  },
  {
   "cell_type": "markdown",
   "metadata": {},
   "source": [
    "## Задача 4 (Проверка свойства кучи рекурсивная)\n",
    "\n",
    "\n",
    "**Условие**</font>\n",
    "\n",
    "Сделать проверку рабочей. Правила прежние.\n",
    "\n",
    "<font color='green'>**Баллы**</font>: **0.05**\n",
    "\n",
    "<font color='green'>**Что прокачаете**</font>: умение читать код"
   ]
  },
  {
   "cell_type": "code",
   "execution_count": 4,
   "metadata": {
    "collapsed": true
   },
   "outputs": [],
   "source": [
    "def is_heap(array, i):\n",
    "    \n",
    "    if 2 * i < len(array):\n",
    "        if array[i] > array[2 * i]:\n",
    "            return is_heap(array, 2 * i)\n",
    "        else:\n",
    "            return False\n",
    "    \n",
    "    if 2 * i + 1 < len(array):\n",
    "        if array[i] >= array[2 * i + 1]:\n",
    "            return is_heap(array, 2 * i + 1)\n",
    "        else:\n",
    "            return False\n",
    "    \n",
    "    return True"
   ]
  },
  {
   "cell_type": "markdown",
   "metadata": {},
   "source": [
    "## Задача 5 (Сортировка кучей)\n",
    "\n",
    "\n",
    "<font color='green'>**Условие**</font>\n",
    "\n",
    "Сделать сортировку рабочей. Правила прежние.\n",
    "\n",
    "<font color='green'>**Баллы**</font>: **0.15** первому, **0.1** второму и третьему\n",
    "\n",
    "<font color='green'>**Что прокачаете**</font>: умение читать код, "
   ]
  },
  {
   "cell_type": "code",
   "execution_count": 5,
   "metadata": {
    "collapsed": true
   },
   "outputs": [],
   "source": [
    "# Функция, возвращающая индекс большего элемента\n",
    "def get_idx_of_max(elem_1, idx_1, elem_2, idx_2):\n",
    "\n",
    "    if elem_1 > elem_2:\n",
    "        return idx_1\n",
    "    else:\n",
    "        return idx_2\n",
    "\n",
    "\n",
    "def heapify(array, i):\n",
    "\n",
    "    if 2 * i + 1 < len(array) and array[i] < max(array[2 * i + 1], array[2 * i + 1]):\n",
    "        idx_of_max = get_idx_of_max(array[2 * i + 1], 2 * i + 1, array[2 * i], 2 * i)\n",
    "        array[i], array[idx_of_max] = array[idx_of_max], array[i]\n",
    "        return heapify(array, idx_of_max)\n",
    "    elif 2 * i < len(array) and array[i] < array[2 * i]:\n",
    "        array[i], array[2 * i + 1] = array[2 * i + 1], array[i]\n",
    "        return heapify(array, 2 * i)\n",
    "\n",
    "    return array\n",
    "\n",
    "\n",
    "def heap_sort(array):\n",
    "\n",
    "    for i in range(len(array) // 2, 0, -1):\n",
    "        array = heapify(array, i)\n",
    "\n",
    "    for i in range(1, len(array)):\n",
    "        array[0], array[-i] = array[-i], array[0]\n",
    "        for j in range(len(array[:-i]) // 2, -1, -1):\n",
    "            array[:-i] = heapify(array[:-i], j) \n",
    "\n",
    "    return array"
   ]
  }
 ],
 "metadata": {
  "kernelspec": {
   "display_name": "Python 3",
   "language": "python",
   "name": "python3"
  },
  "language_info": {
   "codemirror_mode": {
    "name": "ipython",
    "version": 3
   },
   "file_extension": ".py",
   "mimetype": "text/x-python",
   "name": "python",
   "nbconvert_exporter": "python",
   "pygments_lexer": "ipython3",
   "version": "3.4.3"
  }
 },
 "nbformat": 4,
 "nbformat_minor": 2
}
