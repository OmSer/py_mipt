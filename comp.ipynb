{
 "cells": [
  {
   "cell_type": "markdown",
   "metadata": {},
   "source": [
    "# Задачи на понимание \n",
    "\n",
    "\n",
    "В данном блоке нужно либо понять, что происходит в коде и переписать в его в хорошем стиле, либо что-то расшифровать."
   ]
  },
  {
   "cell_type": "markdown",
   "metadata": {},
   "source": [
    "## Задача 1 (Шифровка)\n",
    "\n",
    "\n",
    "**Условие**\n",
    "\n",
    "Расшифровать строку \n",
    "\n",
    "**Баллы**: **0.05**\n",
    "\n",
    "**Что прокачаете**: работа со строками, программистский скилл"
   ]
  },
  {
   "cell_type": "code",
   "execution_count": 1,
   "metadata": {
    "collapsed": true
   },
   "outputs": [],
   "source": [
    "string = 'Fg Hsaf, fG YsAF! KsHwjW SMvw, EsF!'\n",
    "\n",
    "def decrypt(string):\n",
    "    pass"
   ]
  },
  {
   "cell_type": "markdown",
   "metadata": {},
   "source": [
    "## Задача 2 (Шифровка)\n",
    "\n",
    "\n",
    "**Условие**\n",
    "\n",
    "Расшифровать строку \n",
    "\n",
    "**Баллы**: **0.2**\n",
    "\n",
    "**Что прокачаете**: работа со строками, программистский скилл"
   ]
  },
  {
   "cell_type": "code",
   "execution_count": 2,
   "metadata": {
    "collapsed": true
   },
   "outputs": [],
   "source": [
    "string = 'ЙюАфг ЖеЬГу, ЙюАфг ЖеЬГу, ЙюАфЧ теЬпЗ ПпоРпу!!!'\n",
    "\n",
    "def decrypt(string):\n",
    "    pass"
   ]
  },
  {
   "cell_type": "markdown",
   "metadata": {},
   "source": [
    "## Задача 3 (What's happening?)\n",
    "\n",
    "\n",
    "**Условие**\n",
    "\n",
    "Понять, что делает код, реализовать обынкновенный вариант этого алгоритма и сравнить времена выполнения. При построении графика анализа времен выполнения накинется еще 0.1 (очень советую это сделать).\n",
    "\n",
    "**Баллы**: **0.15 (+0.1)** \n",
    "\n",
    "**Что прокачаете**: работа со временем, программистский скилл + модуль графики"
   ]
  },
  {
   "cell_type": "code",
   "execution_count": 3,
   "metadata": {
    "collapsed": true
   },
   "outputs": [],
   "source": [
    "def wtf(unicorn, pony):\n",
    "\n",
    "    if pony == 1:\n",
    "        return unicorn\n",
    "    elif pony % 2 == 0:\n",
    "        return wtf(unicorn * unicorn, pony // 2)\n",
    "    elif pony % 2 == 1:\n",
    "        return unicorn * wtf(unicorn * unicorn, pony // 2)"
   ]
  }
 ],
 "metadata": {
  "kernelspec": {
   "display_name": "Python 3",
   "language": "python",
   "name": "python3"
  },
  "language_info": {
   "codemirror_mode": {
    "name": "ipython",
    "version": 3
   },
   "file_extension": ".py",
   "mimetype": "text/x-python",
   "name": "python",
   "nbconvert_exporter": "python",
   "pygments_lexer": "ipython3",
   "version": "3.4.3"
  }
 },
 "nbformat": 4,
 "nbformat_minor": 2
}
