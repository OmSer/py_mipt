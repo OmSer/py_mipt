{
 "cells": [
  {
   "cell_type": "markdown",
   "metadata": {},
   "source": [
    "Наверное, лучшим пояснением работы алгоритма эффективного вычисления Z-функции будет наглядная демонстрация его работы. Ключевая идея - мы хотим использовать предпосчитанные значения. Для этого вводится понятие отрезка совпадения - по сути это просто окно от индекса *l* до индекса *r*. \n",
    "\n",
    "В зависимости от того, находится ли текущий индекс *i* в этом окне, мы выбираем один из способов подсчета."
   ]
  },
  {
   "cell_type": "markdown",
   "metadata": {},
   "source": [
    "Если индекс *i* вне окна *i* > *r*, например, при просмотре второго элемента строки, тогда (и только тогда) начинает создаваться новое окно:\n",
    "\n",
    "\n",
    "**Пример:**\n",
    "\n",
    "*aaaaa*\n",
    "\n",
    "i = 1, l = 0, r = 0\n",
    "\n",
    "Играет как раз этот случай, l = i, запускаем наивный метод, которым доходим до конца строки. То есть, при i = 1 создатся окно l = 1, r = 4. \n",
    "\n",
    "При i = 2, i < r. То есть, это второй случай, в котором как раз используются предпосчитанные значения. Эта часть очень понятна написана в лабе, формула пересчета z[i] = min(r - i + 1, z[i-l]) \n",
    "\n",
    "z[2] = min(4 - 2 + 1, z[2-1]) = 3\n",
    "\n",
    "И так далее z[3] = 2, z[4] = 1\n",
    "\n",
    "\n",
    "**Пример:**\n",
    "\n",
    "*aabaab*\n",
    "\n",
    "i = 1, l = 0, r = 0\n",
    "Итерации тривиального алгоритма закончатся при i = 1 и будет l = 1, r = 1\n",
    "\n",
    "i = 2\n",
    "\n",
    "...\n",
    "\n",
    "\n",
    "i = 3\n",
    "\n",
    "l = 3, r = 4\n",
    "\n",
    "i = 4\n",
    "\n",
    "z[4] = z[4-3] = z[1] = 1\n",
    "\n",
    "..."
   ]
  },
  {
   "cell_type": "code",
   "execution_count": 1,
   "metadata": {
    "collapsed": false
   },
   "outputs": [],
   "source": [
    "def z_func(string):\n",
    "    \n",
    "    left, right = 0, 0\n",
    "    z_values = [0] * len(string)\n",
    "    \n",
    "    for i in range(1, len(string)):\n",
    "        \n",
    "        if i > right:\n",
    "            z_current = 0\n",
    "            left = i\n",
    "            \n",
    "            for j in range(len(string) - i):\n",
    "                \n",
    "                \n",
    "                if string[j] != string[i+j]:\n",
    "                    break\n",
    "                right = i + j\n",
    "                z_current += 1\n",
    "                \n",
    "            z_values[i] = z_current\n",
    "        \n",
    "        else:\n",
    "            \n",
    "            z_values[i] = min(right - i + 1, z_values[i - left])\n",
    "            \n",
    "    return z_values"
   ]
  }
 ],
 "metadata": {
  "kernelspec": {
   "display_name": "Python 3",
   "language": "python",
   "name": "python3"
  },
  "language_info": {
   "codemirror_mode": {
    "name": "ipython",
    "version": 3
   },
   "file_extension": ".py",
   "mimetype": "text/x-python",
   "name": "python",
   "nbconvert_exporter": "python",
   "pygments_lexer": "ipython3",
   "version": "3.4.3"
  }
 },
 "nbformat": 4,
 "nbformat_minor": 2
}
