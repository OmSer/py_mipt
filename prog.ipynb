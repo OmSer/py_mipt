{
 "cells": [
  {
   "cell_type": "markdown",
   "metadata": {},
   "source": [
    "# Задачи на реализацию"
   ]
  },
  {
   "cell_type": "markdown",
   "metadata": {},
   "source": [
    "Задачи данного блока нужно закодить с нуля. В таблице результатов эти задачи отображаются в виже prog_N, где N - номер задачи. Здесь самые разные задачи, прорешав которые вы, возможно, прокачаете не только свои программистские скилы, но и лучше поймете другие предметы, например, линал."
   ]
  },
  {
   "cell_type": "markdown",
   "metadata": {},
   "source": [
    "## Задача 1 (Шифр Цезаря)\n",
    "\n",
    "\n",
    "<font color='green'>**Условие**</font>\n",
    "\n",
    "Реализовать функцию шифрования (и дешифрования) [шифра Цезаря](https://ru.wikipedia.org/wiki/%D0%A8%D0%B8%D1%84%D1%80_%D0%A6%D0%B5%D0%B7%D0%B0%D1%80%D1%8F). Функции подаются 3 параметра: строка, шаг и режим (encrypt или decrypt). Необходимо вернуть результирующую строку.\n",
    "\n",
    "<font color='green'>**Баллы**</font>: **0.05**\n",
    "\n",
    "<font color='green'>**Что прокачаете**</font>: работа со строками, программистский скилл"
   ]
  },
  {
   "cell_type": "code",
   "execution_count": 1,
   "metadata": {
    "collapsed": true
   },
   "outputs": [],
   "source": [
    "def cesar_encryption(string, step, mode='encryption'):\n",
    "    pass"
   ]
  },
  {
   "cell_type": "markdown",
   "metadata": {},
   "source": [
    "## Задача 2 (Сравнение текстовых файлов)\n",
    "\n",
    "\n",
    "<font color='green'>**Условие**</font>\n",
    "\n",
    "Написать функцию, которая построчно сравнивает два текстовых файла и выводит строчки, обоих файлов, в которых есть различия, причем слова, в которых есть различия нужно выделить ВЕРХНИМ РЕГИСТРОМ. В файлах только слова без знаков препинания. \n",
    "\n",
    "**Пример**:\n",
    "\n",
    "*File 1*\n",
    "\n",
    "hello Vasya  \n",
    "good  \n",
    "luck\n",
    "\n",
    "*File 2*\n",
    "\n",
    "hi Vasya  \n",
    "good  \n",
    "duck\n",
    "\n",
    "**Вывод**:\n",
    "\n",
    "| Строка | Строка в первом файле | Строка во втором файле |\n",
    "|------|------|\n",
    "| 1 |HELLO Vasya | HI Vasya |\n",
    "|3 | LUCK | DUCK|\n",
    "\n",
    "\n",
    "<font color='green'>**Баллы**</font>: **0.1**\n",
    "\n",
    "<font color='green'>**Что прокачаете**</font>: работа со строками, работа с файлами, программистский скилл"
   ]
  },
  {
   "cell_type": "code",
   "execution_count": 2,
   "metadata": {
    "collapsed": true
   },
   "outputs": [],
   "source": [
    "def compare(file_1, file_2):\n",
    "    pass"
   ]
  },
  {
   "cell_type": "markdown",
   "metadata": {},
   "source": [
    "## Задача 3 (Матричное произведение)\n",
    "\n",
    "\n",
    "<font color='green'>**Условие**</font>\n",
    "\n",
    "Реализовать функцию матричного произведения. Матрицу n на m можно задать, например, так:\n",
    "\n",
    "matrix = [[0 for _ in range(m)] for _ in range(n)] и обращаться matrix[i][j].\n",
    "\n",
    "Функция не должна падать. То есть, если перемножить A на B нельзя, то это нужно как-то осветить. Предполагаем, что подаются матрицы или векторы.\n",
    "\n",
    "<font color='green'>**Баллы**</font>: **0.08**\n",
    "\n",
    "<font color='green'>**Что прокачаете**</font>: свой линал и программистский скилл"
   ]
  },
  {
   "cell_type": "code",
   "execution_count": 3,
   "metadata": {
    "collapsed": true
   },
   "outputs": [],
   "source": [
    "def matrix_product(matrix_1, matrix_2):\n",
    "    pass"
   ]
  },
  {
   "cell_type": "markdown",
   "metadata": {},
   "source": [
    "## Задача 4 (Матричное транспонирование)\n",
    "\n",
    "\n",
    "<font color='green'>**Условие**</font>\n",
    "\n",
    "Написать функцию транспонирования матрицы. Программа не должна падать: в случае невозможности транспонирования необходимо вывести сообщение об этом.\n",
    "\n",
    "<font color='green'>**Баллы**</font>: **0.05**\n",
    "\n",
    "<font color='green'>**Что прокачаете**</font>: программистский скилл"
   ]
  },
  {
   "cell_type": "code",
   "execution_count": 4,
   "metadata": {
    "collapsed": true
   },
   "outputs": [],
   "source": [
    "def matrix_transpose(matrix):\n",
    "    pass"
   ]
  },
  {
   "cell_type": "markdown",
   "metadata": {},
   "source": [
    "## Задача 5 (Обращение матрицы)\n",
    "\n",
    "\n",
    "<font color='green'>**Условие**</font>\n",
    "\n",
    "Реализовать алгоритм обращения матрицы (методом Гаусса). \n",
    "\n",
    "\n",
    "<font color='green'>**Баллы**</font>: **0.25**\n",
    "\n",
    "<font color='green'>**Что прокачаете**</font>: хорошая задача на программистский скилл и осознание аналита, очень нужно понимать этот алгоритм!"
   ]
  },
  {
   "cell_type": "code",
   "execution_count": 5,
   "metadata": {
    "collapsed": true
   },
   "outputs": [],
   "source": [
    "def matrix_invert(matrix):\n",
    "    pass"
   ]
  },
  {
   "cell_type": "markdown",
   "metadata": {},
   "source": [
    "## Задача 6 (Определитель матрицы)\n",
    "\n",
    "\n",
    "<font color='green'>**Условие**</font>\n",
    "\n",
    "Реализовать алгоритм подсчета определителя. Программа не должна падать: если определитель посчитать нельзя, то нужно вывести сообщение об этом.\n",
    "\n",
    "<font color='green'>**Баллы**</font>: **0.3**\n",
    "\n",
    "<font color='green'>**Что прокачаете**</font>: линал"
   ]
  },
  {
   "cell_type": "code",
   "execution_count": 6,
   "metadata": {
    "collapsed": true
   },
   "outputs": [],
   "source": [
    "def matrix_determ(matrix):\n",
    "    pass"
   ]
  },
  {
   "cell_type": "markdown",
   "metadata": {},
   "source": [
    "## Задача 7 (Сложение-вычитание матриц)\n",
    "\n",
    "\n",
    "<font color='green'>**Условие**</font>\n",
    "\n",
    "Реализовать алгоритм сложения-вычитания матриц. На вход подаются две матрицы (или два вектора) и режим (add или sub).\n",
    "\n",
    "<font color='green'>**Баллы**</font>: **0.05**\n",
    "\n",
    "<font color='green'>**Что прокачаете**</font>: линал"
   ]
  },
  {
   "cell_type": "code",
   "execution_count": 7,
   "metadata": {
    "collapsed": true
   },
   "outputs": [],
   "source": [
    "def add_sub_matrix(matrix_1, matrix_2, mode='add'):\n",
    "    pass"
   ]
  }
 ],
 "metadata": {
  "kernelspec": {
   "display_name": "Python 3",
   "language": "python",
   "name": "python3"
  },
  "language_info": {
   "codemirror_mode": {
    "name": "ipython",
    "version": 3
   },
   "file_extension": ".py",
   "mimetype": "text/x-python",
   "name": "python",
   "nbconvert_exporter": "python",
   "pygments_lexer": "ipython3",
   "version": "3.4.3"
  }
 },
 "nbformat": 4,
 "nbformat_minor": 2
}
